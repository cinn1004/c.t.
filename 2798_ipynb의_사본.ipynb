{
  "nbformat": 4,
  "nbformat_minor": 0,
  "metadata": {
    "colab": {
      "name": "2798.ipynb의 사본",
      "provenance": [],
      "authorship_tag": "ABX9TyMpMYtaWUr5nfNEGRSp2fP6",
      "include_colab_link": true
    },
    "kernelspec": {
      "name": "python3",
      "display_name": "Python 3"
    },
    "language_info": {
      "name": "python"
    }
  },
  "cells": [
    {
      "cell_type": "markdown",
      "metadata": {
        "id": "view-in-github",
        "colab_type": "text"
      },
      "source": [
        "<a href=\"https://colab.research.google.com/github/cinn1004/c.t./blob/main/2798_ipynb%EC%9D%98_%EC%82%AC%EB%B3%B8.ipynb\" target=\"_parent\"><img src=\"https://colab.research.google.com/assets/colab-badge.svg\" alt=\"Open In Colab\"/></a>"
      ]
    },
    {
      "cell_type": "code",
      "execution_count": null,
      "metadata": {
        "colab": {
          "base_uri": "https://localhost:8080/"
        },
        "id": "neZF0UO1PDot",
        "outputId": "64624762-b3f5-47cb-a987-5d840ec6fe08"
      },
      "outputs": [
        {
          "output_type": "stream",
          "name": "stdout",
          "text": [
            "5 21\n",
            "5 6 7 8 9\n",
            "[18, 19, 20, 20, 21, 22, 21, 22, 23, 24]\n"
          ]
        }
      ],
      "source": [
        "n, m = map(int, input().split())\n",
        "a = list(map(int, input().split()))\n",
        "b = len(a)\n",
        "sum = 0\n",
        "for i in range(0, b - 2):\n",
        "        for j in range(i + 1, b - 1):\n",
        "                for k in range(j + 1, b):\n",
        "                        if a[i] + a[j] + a[k] > m:\n",
        "                                continue\n",
        "                        else:\n",
        "                                sum = max(sum, a[i] + a[j] + a[k])\n",
        "print(sum)"
      ]
    }
  ]
}