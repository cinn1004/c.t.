{
  "nbformat": 4,
  "nbformat_minor": 0,
  "metadata": {
    "colab": {
      "name": "9498.ipynb",
      "provenance": [],
      "authorship_tag": "ABX9TyNvRD09VUtNKGY9lHXO3E5N",
      "include_colab_link": true
    },
    "kernelspec": {
      "name": "python3",
      "display_name": "Python 3"
    },
    "language_info": {
      "name": "python"
    }
  },
  "cells": [
    {
      "cell_type": "markdown",
      "metadata": {
        "id": "view-in-github",
        "colab_type": "text"
      },
      "source": [
        "<a href=\"https://colab.research.google.com/github/cinn1004/c.t./blob/main/9498.ipynb\" target=\"_parent\"><img src=\"https://colab.research.google.com/assets/colab-badge.svg\" alt=\"Open In Colab\"/></a>"
      ]
    },
    {
      "cell_type": "code",
      "execution_count": 14,
      "metadata": {
        "colab": {
          "base_uri": "https://localhost:8080/"
        },
        "id": "BbTeIIHhIqWi",
        "outputId": "28a957cd-648e-40d7-b7d7-e8f81c943e03"
      },
      "outputs": [
        {
          "output_type": "stream",
          "name": "stdout",
          "text": [
            "23\n",
            "F\n"
          ]
        }
      ],
      "source": [
        "score = int(input())\n",
        "if score > 100 :\n",
        "  None\n",
        "elif score >89 :\n",
        "  print('A')\n",
        "elif score> 79 : \n",
        "  print('B')\n",
        "elif score > 69 :\n",
        "  print('C')\n",
        "elif score > 59 :\n",
        "  print('D')\n",
        "else :\n",
        "  print('F')\n",
        "# 90 ~ 100점은 A, 80 ~ 89점은 B, 70 ~ 79점은 C, 60 ~ 69점은 D, 나머지 점수는 F"
      ]
    },
    {
      "cell_type": "code",
      "source": [
        ""
      ],
      "metadata": {
        "id": "FH29TyWxJV5J"
      },
      "execution_count": null,
      "outputs": []
    }
  ]
}