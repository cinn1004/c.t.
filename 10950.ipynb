{
  "nbformat": 4,
  "nbformat_minor": 0,
  "metadata": {
    "colab": {
      "name": "10950.ipynb",
      "provenance": [],
      "authorship_tag": "ABX9TyMt4URhO+QQzqqMKCNR2VRx",
      "include_colab_link": true
    },
    "kernelspec": {
      "name": "python3",
      "display_name": "Python 3"
    },
    "language_info": {
      "name": "python"
    }
  },
  "cells": [
    {
      "cell_type": "markdown",
      "metadata": {
        "id": "view-in-github",
        "colab_type": "text"
      },
      "source": [
        "<a href=\"https://colab.research.google.com/github/cinn1004/c.t./blob/main/10950.ipynb\" target=\"_parent\"><img src=\"https://colab.research.google.com/assets/colab-badge.svg\" alt=\"Open In Colab\"/></a>"
      ]
    },
    {
      "cell_type": "code",
      "execution_count": null,
      "metadata": {
        "colab": {
          "base_uri": "https://localhost:8080/"
        },
        "id": "Q-GeeiapHlAz",
        "outputId": "5310a8c7-de3e-46b0-c611-131577ebe2fc"
      },
      "outputs": [
        {
          "output_type": "stream",
          "name": "stdout",
          "text": [
            "8\n",
            "1 4\n",
            "5\n",
            "2 5\n",
            "7\n",
            "5 9\n",
            "14\n",
            "12 15\n",
            "27\n",
            "19 20\n",
            "39\n",
            "30 0\n",
            "30\n",
            "200 100\n",
            "300\n",
            "10 34\n",
            "44\n"
          ]
        }
      ],
      "source": [
        "a = int(input())\n",
        "\n",
        "for i in range(a):\n",
        "  num_1,num_2 = map(int,input().split())\n",
        "  print(num_1 + num_2)"
      ]
    },
    {
      "cell_type": "code",
      "source": [
        ""
      ],
      "metadata": {
        "id": "Itf94GAyH6ce"
      },
      "execution_count": null,
      "outputs": []
    }
  ]
}