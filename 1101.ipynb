{
  "nbformat": 4,
  "nbformat_minor": 0,
  "metadata": {
    "colab": {
      "name": "1101.ipynb",
      "provenance": [],
      "collapsed_sections": [],
      "authorship_tag": "ABX9TyOqPIHQjPKwMp6xG41d2Drl",
      "include_colab_link": true
    },
    "kernelspec": {
      "name": "python3",
      "display_name": "Python 3"
    },
    "language_info": {
      "name": "python"
    }
  },
  "cells": [
    {
      "cell_type": "markdown",
      "metadata": {
        "id": "view-in-github",
        "colab_type": "text"
      },
      "source": [
        "<a href=\"https://colab.research.google.com/github/cinn1004/c.t./blob/main/1101.ipynb\" target=\"_parent\"><img src=\"https://colab.research.google.com/assets/colab-badge.svg\" alt=\"Open In Colab\"/></a>"
      ]
    },
    {
      "cell_type": "code",
      "execution_count": null,
      "metadata": {
        "id": "eTkcvrLwKcVY"
      },
      "outputs": [],
      "source": [
        "num = int(input())\n",
        "a = num\n",
        "count=0\n",
        "\n",
        "while True :\n",
        "    if a < 10 :\n",
        "        f = 0\n",
        "        b = a\n",
        "    else :\n",
        "        f = a // 10\n",
        "        b = a % 10\n",
        "    a = b*10 + (b+f)%10\n",
        "    count +=1\n",
        "    if num == a:\n",
        "        break\n",
        "print(count)\n"
      ]
    }
  ]
}