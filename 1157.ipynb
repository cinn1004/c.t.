{
  "nbformat": 4,
  "nbformat_minor": 0,
  "metadata": {
    "colab": {
      "name": "1157.ipynb",
      "provenance": [],
      "collapsed_sections": [],
      "authorship_tag": "ABX9TyO06bsA+g0zHUxc444IlN0K",
      "include_colab_link": true
    },
    "kernelspec": {
      "name": "python3",
      "display_name": "Python 3"
    },
    "language_info": {
      "name": "python"
    }
  },
  "cells": [
    {
      "cell_type": "markdown",
      "metadata": {
        "id": "view-in-github",
        "colab_type": "text"
      },
      "source": [
        "<a href=\"https://colab.research.google.com/github/cinn1004/c.t./blob/main/1157.ipynb\" target=\"_parent\"><img src=\"https://colab.research.google.com/assets/colab-badge.svg\" alt=\"Open In Colab\"/></a>"
      ]
    },
    {
      "cell_type": "code",
      "execution_count": null,
      "metadata": {
        "id": "ZaALaIa8RcMg"
      },
      "outputs": [],
      "source": [
        "from operator import index\n",
        "a = input().upper()\n",
        "B = list(set(a))\n",
        "a_Num = []\n",
        "for i in B:\n",
        "    a_Num.append(a.count(i))\n",
        "big = max(a_Num)\n",
        "\n",
        "if a_Num.count(big) >= 2:\n",
        "    print('?')\n",
        "else :\n",
        "    print(B[a_Num.index(big)])"
      ]
    }
  ]
}