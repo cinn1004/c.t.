{
  "nbformat": 4,
  "nbformat_minor": 0,
  "metadata": {
    "colab": {
      "name": "1065.ipynb",
      "provenance": [],
      "authorship_tag": "ABX9TyMfsCrSosy90Yb7XmATwm8E",
      "include_colab_link": true
    },
    "kernelspec": {
      "name": "python3",
      "display_name": "Python 3"
    },
    "language_info": {
      "name": "python"
    }
  },
  "cells": [
    {
      "cell_type": "markdown",
      "metadata": {
        "id": "view-in-github",
        "colab_type": "text"
      },
      "source": [
        "<a href=\"https://colab.research.google.com/github/cinn1004/c.t./blob/main/1065.ipynb\" target=\"_parent\"><img src=\"https://colab.research.google.com/assets/colab-badge.svg\" alt=\"Open In Colab\"/></a>"
      ]
    },
    {
      "cell_type": "code",
      "execution_count": 32,
      "metadata": {
        "colab": {
          "base_uri": "https://localhost:8080/"
        },
        "id": "0ClKk0mJPSyl",
        "outputId": "858b4187-3fb9-4d11-a00d-f456efb5a16c"
      },
      "outputs": [
        {
          "output_type": "stream",
          "name": "stdout",
          "text": [
            "500\n",
            "119\n"
          ]
        }
      ],
      "source": [
        "# 등차수열이란 ! 첫번째 숫자가 왔어. 2 잖아 ? 그럼 두번째 숫자가 3 일거야 . 네번째 숫자는 +1 아니면 -1 이런 식의 숫자가 나와야한다. !\n",
        "\n",
        "num = int(input())\n",
        "count = 0 \n",
        "for i in range(1,num+1) :\n",
        "  if i < 100 :\n",
        "    count += 1\n",
        "  elif i < 1000 :\n",
        "    num_list = list(map(int,str(i)))\n",
        "    if (num_list[0] + num_list[2]) / 2 == num_list[1]:\n",
        "      count+=1 \n",
        "  else :\n",
        "    None\n",
        "print(count) "
      ]
    },
    {
      "cell_type": "code",
      "source": [
        "2"
      ],
      "metadata": {
        "id": "qgtf3cyERyvP"
      },
      "execution_count": null,
      "outputs": []
    }
  ]
}