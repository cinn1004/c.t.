{
  "cells": [
    {
      "cell_type": "markdown",
      "metadata": {
        "colab_type": "text",
        "id": "view-in-github"
      },
      "source": [
        "<a href=\"https://colab.research.google.com/github/cinn1004/c.t./blob/main/2893.ipynb\" target=\"_parent\"><img src=\"https://colab.research.google.com/assets/colab-badge.svg\" alt=\"Open In Colab\"/></a>"
      ]
    },
    {
      "cell_type": "code",
      "execution_count": 1,
      "metadata": {
        "colab": {
          "base_uri": "https://localhost:8080/",
          "height": 1000
        },
        "id": "nuZyyFMfxM0w",
        "outputId": "0e83ac70-b995-4ec6-8b09-3d1b4fda91af"
      },
      "outputs": [],
      "source": [
        "## 먼저 수들을 5로 나눈다. 5로 나눈 나머지를 본다.\n",
        "# 5로 나누었을때 나머지가 3으로 나누어 떨어져야함.\n",
        "N = int(input())\n",
        "C = 0\n",
        "while True:\n",
        "    if N% 5 ==0 :        \n",
        "        C += N//5\n",
        "        print(C)\n",
        "        break\n",
        "        \n",
        "    else :\n",
        "        N -= 3\n",
        "        C += 1\n",
        "    \n",
        "    if N < 0 :\n",
        "        print('-1')\n",
        "        break"
      ]
    }
  ],
  "metadata": {
    "colab": {
      "authorship_tag": "ABX9TyOFDlerPXDdCyTVpkUxnT1l",
      "collapsed_sections": [],
      "include_colab_link": true,
      "name": "2893.ipynb",
      "provenance": []
    },
    "kernelspec": {
      "display_name": "Python 3.9.7 64-bit",
      "language": "python",
      "name": "python3"
    },
    "language_info": {
      "codemirror_mode": {
        "name": "ipython",
        "version": 3
      },
      "file_extension": ".py",
      "mimetype": "text/x-python",
      "name": "python",
      "nbconvert_exporter": "python",
      "pygments_lexer": "ipython3",
      "version": "3.9.7"
    },
    "vscode": {
      "interpreter": {
        "hash": "899fc22f4e0b89168222516769a78a6015b8ee68bc78d54b28bc58c655b6cb51"
      }
    }
  },
  "nbformat": 4,
  "nbformat_minor": 0
}
