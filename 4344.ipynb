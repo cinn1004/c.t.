{
  "nbformat": 4,
  "nbformat_minor": 0,
  "metadata": {
    "colab": {
      "name": "4344.ipynb",
      "provenance": [],
      "collapsed_sections": [],
      "authorship_tag": "ABX9TyOAN0mWswAabTJypFK9YJet",
      "include_colab_link": true
    },
    "kernelspec": {
      "name": "python3",
      "display_name": "Python 3"
    },
    "language_info": {
      "name": "python"
    }
  },
  "cells": [
    {
      "cell_type": "markdown",
      "metadata": {
        "id": "view-in-github",
        "colab_type": "text"
      },
      "source": [
        "<a href=\"https://colab.research.google.com/github/cinn1004/c.t./blob/main/4344.ipynb\" target=\"_parent\"><img src=\"https://colab.research.google.com/assets/colab-badge.svg\" alt=\"Open In Colab\"/></a>"
      ]
    },
    {
      "cell_type": "code",
      "execution_count": null,
      "metadata": {
        "id": "YsVp1lWEEyRf"
      },
      "outputs": [],
      "source": [
        "C = int(input())\n",
        "\n",
        "for i in range(C):\n",
        "    N = list(map(int,input().split()))\n",
        "    N.pop(0)\n",
        "    avg = sum(N)/len(N)\n",
        "    C = 0 \n",
        "    for i in N:\n",
        "        if i > avg :  C+=1\n",
        "    print(\"{:.3f}%\".format((C/len(N))*100))"
      ]
    }
  ]
}