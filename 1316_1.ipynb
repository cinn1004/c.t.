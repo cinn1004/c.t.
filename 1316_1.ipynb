{
  "nbformat": 4,
  "nbformat_minor": 0,
  "metadata": {
    "colab": {
      "name": "1316_1.ipynb",
      "provenance": [],
      "collapsed_sections": [],
      "authorship_tag": "ABX9TyMgcgeDb066rZM6PlUKBjoa",
      "include_colab_link": true
    },
    "kernelspec": {
      "name": "python3",
      "display_name": "Python 3"
    },
    "language_info": {
      "name": "python"
    }
  },
  "cells": [
    {
      "cell_type": "markdown",
      "metadata": {
        "id": "view-in-github",
        "colab_type": "text"
      },
      "source": [
        "<a href=\"https://colab.research.google.com/github/cinn1004/c.t./blob/main/1316_1.ipynb\" target=\"_parent\"><img src=\"https://colab.research.google.com/assets/colab-badge.svg\" alt=\"Open In Colab\"/></a>"
      ]
    },
    {
      "cell_type": "code",
      "execution_count": 4,
      "metadata": {
        "colab": {
          "base_uri": "https://localhost:8080/"
        },
        "id": "h2s3CcTT8c-w",
        "outputId": "c1969044-0f10-4c8e-c2fb-e5fb830ac663"
      },
      "outputs": [
        {
          "output_type": "stream",
          "name": "stdout",
          "text": [
            "1\n",
            "z\n",
            "1\n"
          ]
        }
      ],
      "source": [
        "N = int(input())\n",
        "count = 0\n",
        "\n",
        "for i in range(N):\n",
        "    S1 = list(input())\n",
        "    here = 0\n",
        "    next = 1\n",
        "\n",
        "    for i in range(len(S1)):\n",
        "        try:\n",
        "            if S1[here] == S1[next]:\n",
        "                S1.pop(here) \n",
        "            else:\n",
        "                here +=1\n",
        "                next +=1\n",
        "        except :\n",
        "            break\n",
        "    S1_set=set(S1)\n",
        "    if len(S1) == len(S1_set) :\n",
        "        count+=1\n",
        "\n",
        "print(count)"
      ]
    },
    {
      "cell_type": "code",
      "source": [
        ""
      ],
      "metadata": {
        "id": "C39mUfxg8ioI"
      },
      "execution_count": null,
      "outputs": []
    }
  ]
}