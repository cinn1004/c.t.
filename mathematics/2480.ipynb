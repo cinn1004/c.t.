{
  "nbformat": 4,
  "nbformat_minor": 0,
  "metadata": {
    "colab": {
      "name": "2480.ipynb",
      "provenance": [],
      "collapsed_sections": [],
      "authorship_tag": "ABX9TyNS3NWdTFcVPVxIZ0Is9yrE",
      "include_colab_link": true
    },
    "kernelspec": {
      "name": "python3",
      "display_name": "Python 3"
    },
    "language_info": {
      "name": "python"
    }
  },
  "cells": [
    {
      "cell_type": "markdown",
      "metadata": {
        "id": "view-in-github",
        "colab_type": "text"
      },
      "source": [
        "<a href=\"https://colab.research.google.com/github/cinn1004/c.t./blob/main/2480.ipynb\" target=\"_parent\"><img src=\"https://colab.research.google.com/assets/colab-badge.svg\" alt=\"Open In Colab\"/></a>"
      ]
    },
    {
      "cell_type": "markdown",
      "source": [
        "#문제\n",
        "1에서부터 6까지의 눈을 가진 3개의 주사위를 던져서 다음과 같은 규칙에 따라 상금을 받는 게임이 있다. \n",
        "\n",
        "같은 눈이 3개가 나오면 10,000원+(같은 눈)×1,000원의 상금을 받게 된다. \n",
        "같은 눈이 2개만 나오는 경우에는 1,000원+(같은 눈)×100원의 상금을 받게 된다. \n",
        "모두 다른 눈이 나오는 경우에는 (그 중 가장 큰 눈)×100원의 상금을 받게 된다.  \n",
        "예를 들어, 3개의 눈 3, 3, 6이 주어지면 상금은 1,000+3×100으로 계산되어 1,300원을 받게 된다. 또 3개의 눈이 2, 2, 2로 주어지면 10,000+2×1,000 으로 계산되어 12,000원을 받게 된다. 3개의 눈이 6, 2, 5로 주어지면 그중 가장 큰 값이 6이므로 6×100으로 계산되어 600원을 상금으로 받게 된다.\n",
        "\n",
        "3개 주사위의 나온 눈이 주어질 때, 상금을 계산하는 프로그램을 작성 하시오.\n",
        "\n",
        "#입력\n",
        "첫째 줄에 3개의 눈이 빈칸을 사이에 두고 각각 주어진다. \n",
        "\n",
        "#출력\n",
        "첫째 줄에 게임의 상금을 출력 한다."
      ],
      "metadata": {
        "id": "yKb7zvWvvHCf"
      }
    },
    {
      "cell_type": "markdown",
      "source": [
        "같은 눈이 3개가 나오면 10,000원+(같은 눈)×1,000원의 상금을 받게 된다. \n",
        "같은 눈이 2개만 나오는 경우에는 1,000원+(같은 눈)×100원의 상금을 받게 된다. \n",
        "모두 다른 눈이 나오는 경우에는 (그 중 가장 큰 눈)×100원의 상금을 받게 된다.  "
      ],
      "metadata": {
        "id": "RtxzxYyZvGBK"
      }
    },
    {
      "cell_type": "code",
      "execution_count": 9,
      "metadata": {
        "colab": {
          "base_uri": "https://localhost:8080/"
        },
        "id": "aYHEXu33vEav",
        "outputId": "2b5f99c2-9138-44d0-9866-b44eb6c0cd1c"
      },
      "outputs": [
        {
          "output_type": "stream",
          "name": "stdout",
          "text": [
            "6 2 5\n",
            "600\n"
          ]
        }
      ],
      "source": [
        "a, b, c = map(int,input().split())\n",
        "if a == b == c :\n",
        "  print(10000+a*1000)\n",
        "elif a == b or b==c :\n",
        "  print(1000+b*100)\n",
        "elif a==c : \n",
        "  print(1000+c*100)\n",
        "elif a!=b!=c :\n",
        "  al = [a,b,c]\n",
        "  al.sort()\n",
        "  print(al[2]*100)  "
      ]
    },
    {
      "cell_type": "code",
      "source": [
        ""
      ],
      "metadata": {
        "id": "irT3FOvCvS1V"
      },
      "execution_count": null,
      "outputs": []
    }
  ]
}