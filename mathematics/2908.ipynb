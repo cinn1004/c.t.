{
  "nbformat": 4,
  "nbformat_minor": 0,
  "metadata": {
    "colab": {
      "name": "2908.ipynb",
      "provenance": [],
      "collapsed_sections": [],
      "authorship_tag": "ABX9TyNThteSDGoheoeDOOGAv8tz",
      "include_colab_link": true
    },
    "kernelspec": {
      "name": "python3",
      "display_name": "Python 3"
    },
    "language_info": {
      "name": "python"
    }
  },
  "cells": [
    {
      "cell_type": "markdown",
      "metadata": {
        "id": "view-in-github",
        "colab_type": "text"
      },
      "source": [
        "<a href=\"https://colab.research.google.com/github/cinn1004/c.t./blob/main/2908.ipynb\" target=\"_parent\"><img src=\"https://colab.research.google.com/assets/colab-badge.svg\" alt=\"Open In Colab\"/></a>"
      ]
    },
    {
      "cell_type": "code",
      "execution_count": null,
      "metadata": {
        "id": "4Bh1UhqJx-oH"
      },
      "outputs": [],
      "source": [
        "N = input().split()\n",
        "A = list(N[0])\n",
        "B = ''.join(reversed(A))\n",
        "C = list(N[1])\n",
        "D = ''.join(reversed(C))\n",
        "\n",
        "if int(B)<int(D):\n",
        "    print(D)\n",
        "else : print(B)"
      ]
    },
    {
      "cell_type": "code",
      "source": [
        ""
      ],
      "metadata": {
        "id": "_lI1-fU_yAeB"
      },
      "execution_count": null,
      "outputs": []
    }
  ]
}