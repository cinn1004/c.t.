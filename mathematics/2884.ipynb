{
  "nbformat": 4,
  "nbformat_minor": 0,
  "metadata": {
    "colab": {
      "name": "2884.ipynb",
      "provenance": [],
      "authorship_tag": "ABX9TyNkQqkqFzI6WHVoq/eT8xvl",
      "include_colab_link": true
    },
    "kernelspec": {
      "name": "python3",
      "display_name": "Python 3"
    },
    "language_info": {
      "name": "python"
    }
  },
  "cells": [
    {
      "cell_type": "markdown",
      "metadata": {
        "id": "view-in-github",
        "colab_type": "text"
      },
      "source": [
        "<a href=\"https://colab.research.google.com/github/cinn1004/c.t./blob/main/2884.ipynb\" target=\"_parent\"><img src=\"https://colab.research.google.com/assets/colab-badge.svg\" alt=\"Open In Colab\"/></a>"
      ]
    },
    {
      "cell_type": "code",
      "execution_count": 10,
      "metadata": {
        "colab": {
          "base_uri": "https://localhost:8080/"
        },
        "id": "fY4Uydn0Iwac",
        "outputId": "081cc2d9-0159-4e1b-e612-4e1d94874c03"
      },
      "outputs": [
        {
          "output_type": "stream",
          "name": "stdout",
          "text": [
            "0 46\n",
            "0 1\n"
          ]
        }
      ],
      "source": [
        "hour, min = map(int,input().split())\n",
        "\n",
        "if min < 45: ## 45분 보다 작으면 일단 60을 더한후 ! \n",
        "  if hour == 0 :\n",
        "    hour = 23\n",
        "    min = min + 60 - 45 \n",
        "  else : \n",
        "    hour -= 1\n",
        "    min =  min + 60 -45\n",
        "else:\n",
        "  if hour == 0 :\n",
        "    min = min - 45 \n",
        "  else : \n",
        "    min =  min -45\n",
        "\n",
        "print(hour , min)"
      ]
    },
    {
      "cell_type": "code",
      "source": [
        ""
      ],
      "metadata": {
        "id": "0ZiMYU38I3dN"
      },
      "execution_count": null,
      "outputs": []
    }
  ]
}