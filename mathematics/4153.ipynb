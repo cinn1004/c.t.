{
  "nbformat": 4,
  "nbformat_minor": 0,
  "metadata": {
    "colab": {
      "name": "4153.ipynb",
      "provenance": [],
      "authorship_tag": "ABX9TyP3rtM5TtNQftOTgZLlz0/n",
      "include_colab_link": true
    },
    "kernelspec": {
      "name": "python3",
      "display_name": "Python 3"
    },
    "language_info": {
      "name": "python"
    }
  },
  "cells": [
    {
      "cell_type": "markdown",
      "metadata": {
        "id": "view-in-github",
        "colab_type": "text"
      },
      "source": [
        "<a href=\"https://colab.research.google.com/github/cinn1004/c.t./blob/main/4153.ipynb\" target=\"_parent\"><img src=\"https://colab.research.google.com/assets/colab-badge.svg\" alt=\"Open In Colab\"/></a>"
      ]
    },
    {
      "cell_type": "code",
      "execution_count": 2,
      "metadata": {
        "colab": {
          "base_uri": "https://localhost:8080/"
        },
        "id": "cKqkRrLQicFt",
        "outputId": "eb53efb6-0559-4219-d771-11cac536222a"
      },
      "outputs": [
        {
          "name": "stdout",
          "output_type": "stream",
          "text": [
            "6 8 10\n",
            "right\n",
            "25 52 60\n",
            "wrong\n",
            "5 12 13\n",
            "right\n",
            "0 0 0\n"
          ]
        }
      ],
      "source": [
        "while True :\n",
        "  num_list = list(map(int,input().split()))\n",
        "  num_list.sort()\n",
        "  if (num_list[0] == num_list[1] == num_list[2] == 0):\n",
        "    break\n",
        "  if ((num_list[0])**2 + (num_list[1])**2 == (num_list[2])**2 ):\n",
        "    print('right')\n",
        "  else:\n",
        "    print('wrong')\n"
      ]
    }
  ]
}