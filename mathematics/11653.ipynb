{
  "nbformat": 4,
  "nbformat_minor": 0,
  "metadata": {
    "colab": {
      "name": "11653.ipynb",
      "provenance": [],
      "authorship_tag": "ABX9TyPR2z3lfUKTwiYgAVVJMMIp",
      "include_colab_link": true
    },
    "kernelspec": {
      "name": "python3",
      "display_name": "Python 3"
    },
    "language_info": {
      "name": "python"
    }
  },
  "cells": [
    {
      "cell_type": "markdown",
      "metadata": {
        "id": "view-in-github",
        "colab_type": "text"
      },
      "source": [
        "<a href=\"https://colab.research.google.com/github/cinn1004/c.t./blob/main/11653.ipynb\" target=\"_parent\"><img src=\"https://colab.research.google.com/assets/colab-badge.svg\" alt=\"Open In Colab\"/></a>"
      ]
    },
    {
      "cell_type": "code",
      "execution_count": 10,
      "metadata": {
        "colab": {
          "base_uri": "https://localhost:8080/"
        },
        "id": "4Q3eWfNXBUZA",
        "outputId": "9beea7c2-2d48-4895-b1d2-798837b3832c"
      },
      "outputs": [
        {
          "output_type": "stream",
          "name": "stdout",
          "text": [
            "<built-in method join of str object at 0x7f293d6ad970>\n"
          ]
        }
      ],
      "source": [
        "a = int(input())\n",
        "b = 2\n",
        "while (a >= b) : ## a => b 되는 동안 반복하겠다.\n",
        "    if (a % b) == 0 : ## 만약에 a를 b로 나누었을때 몫이 0이면 값을 출력.\n",
        "        a /= b\n",
        "        print(b)\n",
        "    else :  ## 몫이 0이 아니라면 계속 1씩 더해준다.\n",
        "        b += 1"
      ]
    },
    {
      "cell_type": "code",
      "source": [
        "2\n"
      ],
      "metadata": {
        "id": "IzRCoGC4Bcab"
      },
      "execution_count": null,
      "outputs": []
    }
  ]
}