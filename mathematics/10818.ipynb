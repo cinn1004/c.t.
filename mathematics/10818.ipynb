{
  "nbformat": 4,
  "nbformat_minor": 0,
  "metadata": {
    "colab": {
      "name": "10818.ipynb",
      "provenance": [],
      "authorship_tag": "ABX9TyNqJstrVpdGKzJ+Pnpf1+bh",
      "include_colab_link": true
    },
    "kernelspec": {
      "name": "python3",
      "display_name": "Python 3"
    },
    "language_info": {
      "name": "python"
    }
  },
  "cells": [
    {
      "cell_type": "markdown",
      "metadata": {
        "id": "view-in-github",
        "colab_type": "text"
      },
      "source": [
        "<a href=\"https://colab.research.google.com/github/cinn1004/c.t./blob/main/10818.ipynb\" target=\"_parent\"><img src=\"https://colab.research.google.com/assets/colab-badge.svg\" alt=\"Open In Colab\"/></a>"
      ]
    },
    {
      "cell_type": "code",
      "execution_count": null,
      "metadata": {
        "id": "PHgl3cOrwBsV"
      },
      "outputs": [],
      "source": [
        "N = []\n",
        "for i in range(9):\n",
        "    N.append(int(input()))\n",
        "\n",
        "print(max(N), N.index(max(N))+1)"
      ]
    }
  ]
}