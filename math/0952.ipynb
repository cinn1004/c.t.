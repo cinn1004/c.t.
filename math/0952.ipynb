{
  "cells": [
    {
      "cell_type": "markdown",
      "metadata": {
        "colab_type": "text",
        "id": "view-in-github"
      },
      "source": [
        "<a href=\"https://colab.research.google.com/github/cinn1004/c.t./blob/main/0952.ipynb\" target=\"_parent\"><img src=\"https://colab.research.google.com/assets/colab-badge.svg\" alt=\"Open In Colab\"/></a>"
      ]
    },
    {
      "cell_type": "code",
      "execution_count": null,
      "metadata": {
        "id": "q_zAFD3Fho2R"
      },
      "outputs": [],
      "source": [
        "while True:\n",
        "    a,b = map(int,input().split())\n",
        "    if a == b == 0 :\n",
        "        break\n",
        "    else :\n",
        "        print(a + b)\n"
      ]
    }
  ],
  "metadata": {
    "colab": {
      "authorship_tag": "ABX9TyP37TiDjmIr63uZ2SnbaDpL",
      "collapsed_sections": [],
      "include_colab_link": true,
      "name": "0952.ipynb",
      "provenance": []
    },
    "kernelspec": {
      "display_name": "Python 3",
      "name": "python3"
    },
    "language_info": {
      "name": "python"
    }
  },
  "nbformat": 4,
  "nbformat_minor": 0
}
