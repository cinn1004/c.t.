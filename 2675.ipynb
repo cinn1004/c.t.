{
  "nbformat": 4,
  "nbformat_minor": 0,
  "metadata": {
    "colab": {
      "name": "2675.ipynb",
      "provenance": [],
      "authorship_tag": "ABX9TyNI0w9PMf2SqyrPuBERFzrc",
      "include_colab_link": true
    },
    "kernelspec": {
      "name": "python3",
      "display_name": "Python 3"
    },
    "language_info": {
      "name": "python"
    }
  },
  "cells": [
    {
      "cell_type": "markdown",
      "metadata": {
        "id": "view-in-github",
        "colab_type": "text"
      },
      "source": [
        "<a href=\"https://colab.research.google.com/github/cinn1004/c.t./blob/main/2675.ipynb\" target=\"_parent\"><img src=\"https://colab.research.google.com/assets/colab-badge.svg\" alt=\"Open In Colab\"/></a>"
      ]
    },
    {
      "cell_type": "code",
      "execution_count": null,
      "metadata": {
        "colab": {
          "base_uri": "https://localhost:8080/"
        },
        "id": "_yOeVr1Mdns3",
        "outputId": "d4110d79-e765-4f90-a92a-793f13e02898"
      },
      "outputs": [
        {
          "name": "stdout",
          "output_type": "stream",
          "text": [
            "2\n",
            "3 ABC\n"
          ]
        }
      ],
      "source": [
        "N = int(input())\n",
        "c = ''\n",
        "for i in range(N):\n",
        "  a = list(map(str,input().rstrip()))\n",
        "  for j in range(2,len(a)):\n",
        "    c += int(a[0])*a[j]\n",
        "  print(c)\n"
      ]
    },
    {
      "cell_type": "code",
      "source": [
        "N = int(input())\n",
        "c = ''\n",
        "for i in range(N):\n",
        "  a = list(map(str,input().rstrip()))\n",
        "  for j in range(2,len(a)):\n",
        "    c += int(a[0])*a[j]\n",
        "  print(c)\n",
        "  c= ''"
      ],
      "metadata": {
        "colab": {
          "base_uri": "https://localhost:8080/"
        },
        "id": "QxiRcv-5e4oo",
        "outputId": "2f9f0827-61d1-4bde-f2ea-0298cbc676e8"
      },
      "execution_count": 2,
      "outputs": [
        {
          "output_type": "stream",
          "name": "stdout",
          "text": [
            "2\n",
            "3 ABC\n",
            "AAABBBCCC\n",
            "5 /HTP\n",
            "/////HHHHHTTTTTPPPPP\n"
          ]
        }
      ]
    }
  ]
}