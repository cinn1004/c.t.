{
  "nbformat": 4,
  "nbformat_minor": 0,
  "metadata": {
    "colab": {
      "name": "2525.ipynb",
      "provenance": [],
      "collapsed_sections": [],
      "authorship_tag": "ABX9TyPn3h/S1XDMULj+R4VroFJ8",
      "include_colab_link": true
    },
    "kernelspec": {
      "name": "python3",
      "display_name": "Python 3"
    },
    "language_info": {
      "name": "python"
    }
  },
  "cells": [
    {
      "cell_type": "markdown",
      "metadata": {
        "id": "view-in-github",
        "colab_type": "text"
      },
      "source": [
        "<a href=\"https://colab.research.google.com/github/cinn1004/c.t./blob/main/2525.ipynb\" target=\"_parent\"><img src=\"https://colab.research.google.com/assets/colab-badge.svg\" alt=\"Open In Colab\"/></a>"
      ]
    },
    {
      "cell_type": "markdown",
      "source": [
        "# 문제\n",
        "훈제오리구이를 시작하는 시각과 오븐구이를 하는 데 필요한 시간이 분단위로 주어졌을 때, 오븐구이가 끝나는 시각을 계산하는 프로그램을 작성하시오.\n",
        "\n",
        "# 입력\n",
        "첫째 줄에는 현재 시각이 나온다. 현재 시각은 시 A (0 ≤ A ≤ 23) 와 분 B (0 ≤ B ≤ 59)가 정수로 빈칸을 사이에 두고 순서대로 주어진다. 두 번째 줄에는 요리하는 데 필요한 시간 C (0 ≤ C ≤ 1,000)가 분 단위로 주어진다. \n",
        "\n",
        "# 출력\n",
        "첫째 줄에 종료되는 시각의 시와 분을 공백을 사이에 두고 출력한다. (단, 시는 0부터 23까지의 정수, 분은 0부터 59까지의 정수이다. 디지털 시계는 23시 59분에서 1분이 지나면 0시 0분이 된다.)\n",
        "\n"
      ],
      "metadata": {
        "id": "IYS3S9LawJmJ"
      }
    },
    {
      "cell_type": "code",
      "execution_count": 4,
      "metadata": {
        "colab": {
          "base_uri": "https://localhost:8080/"
        },
        "id": "zzfu7AyGwAo8",
        "outputId": "b41fde73-e40f-4fe6-afa4-800cf283e6b0"
      },
      "outputs": [
        {
          "output_type": "stream",
          "name": "stdout",
          "text": [
            "17 40\n",
            "1000\n",
            "10 20\n"
          ]
        }
      ],
      "source": [
        "hour,min = map(int,input().split())\n",
        "time = int(input())\n",
        "result_min = 0\n",
        "result_hour = 0\n",
        "a = 0\n",
        "if (min+ time) > 60:\n",
        "  a += (min+time)/60\n",
        "  if (hour+a ) < 24 :\n",
        "    result_hour = hour + int(a)\n",
        "    result_min = (min + time) - 60*int((min+time)/60)\n",
        "  else :\n",
        "    result_hour = hour + int(a) - 24\n",
        "    result_min = (min + time) - 60*int((min+time)/60)\n",
        "\n",
        "else :\n",
        "  result_hour = hour\n",
        "  result_min += min + time\n",
        "print(result_hour , result_min)"
      ]
    },
    {
      "cell_type": "code",
      "source": [
        "hour,min = map(int,input().split())\n",
        "time = int(input())\n",
        "time_hour = int(time / 60)\n",
        "time_min = time - time_hour*60\n",
        "result_hour = 0\n",
        "result_min = 0\n",
        "if (time_min + min) >= 60:\n",
        "  \n",
        "  result_min = time_min + min - 60\n",
        "  result_hour = hour + time_hour+ 1\n",
        "  if (result_hour) >= 24:\n",
        "    result_hour -= 24\n",
        "  else :\n",
        "    pass\n",
        "else :\n",
        "  result_min = time_min + min \n",
        "  result_hour = hour + time_hour\n",
        "  if (result_hour) >= 24:\n",
        "    result_hour -= 24\n",
        "  else:\n",
        "    pass\n",
        "\n",
        "print(result_hour,result_min)"
      ],
      "metadata": {
        "colab": {
          "base_uri": "https://localhost:8080/"
        },
        "id": "avosjZ2xxIue",
        "outputId": "e6ea8035-b5a1-4088-e021-abeeb8e68d70"
      },
      "execution_count": 20,
      "outputs": [
        {
          "output_type": "stream",
          "name": "stdout",
          "text": [
            "17 40\n",
            "1000\n",
            "10 20\n"
          ]
        }
      ]
    },
    {
      "cell_type": "code",
      "source": [
        "1000"
      ],
      "metadata": {
        "id": "lc5ZsMHCrqz4"
      },
      "execution_count": null,
      "outputs": []
    }
  ]
}