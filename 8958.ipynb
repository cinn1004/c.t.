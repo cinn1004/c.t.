{
  "nbformat": 4,
  "nbformat_minor": 0,
  "metadata": {
    "colab": {
      "name": "8958.ipynb",
      "provenance": [],
      "collapsed_sections": [],
      "authorship_tag": "ABX9TyOYilfsxuttLRe4KhuKOEP6",
      "include_colab_link": true
    },
    "kernelspec": {
      "name": "python3",
      "display_name": "Python 3"
    },
    "language_info": {
      "name": "python"
    }
  },
  "cells": [
    {
      "cell_type": "markdown",
      "metadata": {
        "id": "view-in-github",
        "colab_type": "text"
      },
      "source": [
        "<a href=\"https://colab.research.google.com/github/cinn1004/c.t./blob/main/8958.ipynb\" target=\"_parent\"><img src=\"https://colab.research.google.com/assets/colab-badge.svg\" alt=\"Open In Colab\"/></a>"
      ]
    },
    {
      "cell_type": "code",
      "execution_count": null,
      "metadata": {
        "id": "_e3kep0d_SMj"
      },
      "outputs": [],
      "source": [
        "b = int(input())\n",
        "for i in range(b): \n",
        "    a = str(input())\n",
        "    c = 0\n",
        "    z = 0 \n",
        "    for i in a:\n",
        "        if i == 'O':\n",
        "            c += 1\n",
        "            z += c\n",
        "        else : \n",
        "            c = 0\n",
        "    print(z)"
      ]
    }
  ]
}