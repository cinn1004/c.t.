{
  "nbformat": 4,
  "nbformat_minor": 0,
  "metadata": {
    "colab": {
      "name": "1193.ipynb",
      "provenance": [],
      "collapsed_sections": [],
      "authorship_tag": "ABX9TyP4nCHZqMqnZn1m6wZfvrLD",
      "include_colab_link": true
    },
    "kernelspec": {
      "name": "python3",
      "display_name": "Python 3"
    },
    "language_info": {
      "name": "python"
    }
  },
  "cells": [
    {
      "cell_type": "markdown",
      "metadata": {
        "id": "view-in-github",
        "colab_type": "text"
      },
      "source": [
        "<a href=\"https://colab.research.google.com/github/cinn1004/c.t./blob/main/1193.ipynb\" target=\"_parent\"><img src=\"https://colab.research.google.com/assets/colab-badge.svg\" alt=\"Open In Colab\"/></a>"
      ]
    },
    {
      "cell_type": "code",
      "execution_count": 1,
      "metadata": {
        "id": "PXCZdh7qzQEC",
        "colab": {
          "base_uri": "https://localhost:8080/"
        },
        "outputId": "67d7d58b-c3a5-4b76-fbac-eab9de587c33"
      },
      "outputs": [
        {
          "output_type": "stream",
          "name": "stdout",
          "text": [
            "14\n",
            "2/4\n"
          ]
        }
      ],
      "source": [
        "X = int(input())\n",
        "C = 0\n",
        "n = 0\n",
        "while X>C:\n",
        "    n += 1\n",
        "    C = int((n*(n+1))/2)\n",
        "\n",
        "if ( n % 2 ) == 0 :\n",
        "    print(\"{}/{}\".format(n-C+X,(C-X+1)))\n",
        "else :\n",
        "    print(\"{}/{}\".format(C-X+1,n-C+X))"
      ]
    }
  ]
}