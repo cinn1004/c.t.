{
  "nbformat": 4,
  "nbformat_minor": 0,
  "metadata": {
    "colab": {
      "name": "3009.ipynb",
      "provenance": [],
      "collapsed_sections": [],
      "authorship_tag": "ABX9TyNYKBtBGiaO27TaS7ScH576",
      "include_colab_link": true
    },
    "kernelspec": {
      "name": "python3",
      "display_name": "Python 3"
    },
    "language_info": {
      "name": "python"
    }
  },
  "cells": [
    {
      "cell_type": "markdown",
      "metadata": {
        "id": "view-in-github",
        "colab_type": "text"
      },
      "source": [
        "<a href=\"https://colab.research.google.com/github/cinn1004/c.t./blob/main/3009.ipynb\" target=\"_parent\"><img src=\"https://colab.research.google.com/assets/colab-badge.svg\" alt=\"Open In Colab\"/></a>"
      ]
    },
    {
      "cell_type": "code",
      "execution_count": null,
      "metadata": {
        "id": "bB-tyR6BMumd"
      },
      "outputs": [],
      "source": [
        "import sys\n",
        "a= (list(map(int,sys.stdin.readline().split())))\n",
        "\n",
        "b = sorted(a)\n",
        "c = ''\n",
        "for i in range(len(b)):\n",
        "    c += str(b[i])+ ' '\n",
        "c = c.rstrip()\n",
        "print(c)"
      ]
    },
    {
      "cell_type": "code",
      "source": [
        ""
      ],
      "metadata": {
        "id": "cfKRTrK_Mwga"
      },
      "execution_count": null,
      "outputs": []
    }
  ]
}