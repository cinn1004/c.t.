{
  "nbformat": 4,
  "nbformat_minor": 0,
  "metadata": {
    "colab": {
      "name": "10871.ipynb",
      "provenance": [],
      "collapsed_sections": [],
      "authorship_tag": "ABX9TyOfIa64ukRrpMeI5S8ObspI",
      "include_colab_link": true
    },
    "kernelspec": {
      "name": "python3",
      "display_name": "Python 3"
    },
    "language_info": {
      "name": "python"
    }
  },
  "cells": [
    {
      "cell_type": "markdown",
      "metadata": {
        "id": "view-in-github",
        "colab_type": "text"
      },
      "source": [
        "<a href=\"https://colab.research.google.com/github/cinn1004/c.t./blob/main/10871.ipynb\" target=\"_parent\"><img src=\"https://colab.research.google.com/assets/colab-badge.svg\" alt=\"Open In Colab\"/></a>"
      ]
    },
    {
      "cell_type": "code",
      "execution_count": null,
      "metadata": {
        "id": "-0OMPXXggyFh"
      },
      "outputs": [],
      "source": [
        "import sys\n",
        "n,x = map(int,input().split())\n",
        "as_df = sys.stdin.readline().split()\n",
        "for i in as_df :\n",
        "    if x > int(i) :\n",
        "        print(i)"
      ]
    }
  ]
}