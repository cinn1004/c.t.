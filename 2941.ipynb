{
  "nbformat": 4,
  "nbformat_minor": 0,
  "metadata": {
    "colab": {
      "name": "2941.ipynb",
      "provenance": [],
      "collapsed_sections": [],
      "authorship_tag": "ABX9TyOTueUzrnvKRsR93eQP21pO",
      "include_colab_link": true
    },
    "kernelspec": {
      "name": "python3",
      "display_name": "Python 3"
    },
    "language_info": {
      "name": "python"
    }
  },
  "cells": [
    {
      "cell_type": "markdown",
      "metadata": {
        "id": "view-in-github",
        "colab_type": "text"
      },
      "source": [
        "<a href=\"https://colab.research.google.com/github/cinn1004/c.t./blob/main/2941.ipynb\" target=\"_parent\"><img src=\"https://colab.research.google.com/assets/colab-badge.svg\" alt=\"Open In Colab\"/></a>"
      ]
    },
    {
      "cell_type": "code",
      "execution_count": null,
      "metadata": {
        "id": "KWzd7Jxlonvn"
      },
      "outputs": [],
      "source": [
        "A = ['c=','c-', 'dz=', 'd-', 'lj', 'nj', 's=', 'z=']\n",
        "S = input()\n",
        "for i in A:\n",
        "    if i in S :\n",
        "        S = S.replace(i,'0')\n",
        "print(len(S))"
      ]
    }
  ]
}