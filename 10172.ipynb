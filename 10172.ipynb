{
  "nbformat": 4,
  "nbformat_minor": 0,
  "metadata": {
    "colab": {
      "name": "10172.ipynb",
      "provenance": [],
      "authorship_tag": "ABX9TyOnQHKzfbSqzZKGQHpe7moT",
      "include_colab_link": true
    },
    "kernelspec": {
      "name": "python3",
      "display_name": "Python 3"
    },
    "language_info": {
      "name": "python"
    }
  },
  "cells": [
    {
      "cell_type": "markdown",
      "metadata": {
        "id": "view-in-github",
        "colab_type": "text"
      },
      "source": [
        "<a href=\"https://colab.research.google.com/github/cinn1004/c.t./blob/main/10172.ipynb\" target=\"_parent\"><img src=\"https://colab.research.google.com/assets/colab-badge.svg\" alt=\"Open In Colab\"/></a>"
      ]
    },
    {
      "cell_type": "code",
      "execution_count": 4,
      "metadata": {
        "colab": {
          "base_uri": "https://localhost:8080/"
        },
        "id": "nnXzHB_O_goq",
        "outputId": "02490460-f8f9-4ce1-f5a7-8f8bfdc6a6ad"
      },
      "outputs": [
        {
          "output_type": "stream",
          "name": "stdout",
          "text": [
            "|\\_/|\n",
            "|q p|   /}\n",
            "( 0 )\"\"\"\\\n",
            "|\"^\"`    |\n",
            "||_/=\\\\__|\n"
          ]
        }
      ],
      "source": [
        "print('|\\\\_/|')\n",
        "\n",
        "print(\"|q p|   /}\")\n",
        "\n",
        "print('( 0 )\\\"\\\"\\\"\\\\')\n",
        "\n",
        "print('|\"^\"`    |')\n",
        "\n",
        "\n",
        "print('||_/=\\\\\\\\__|')"
      ]
    },
    {
      "cell_type": "code",
      "source": [
        "print('|')"
      ],
      "metadata": {
        "colab": {
          "base_uri": "https://localhost:8080/"
        },
        "id": "_BlaDtgX_vVO",
        "outputId": "af262f58-cb68-4227-dca2-a277dc1c033d"
      },
      "execution_count": 1,
      "outputs": [
        {
          "output_type": "stream",
          "name": "stdout",
          "text": [
            "|\n"
          ]
        }
      ]
    },
    {
      "cell_type": "markdown",
      "source": [
        "|\\\\_/|\n",
        "\n",
        "|q p|   /}\n",
        "\n",
        "( 0 )\\\"\\\"\\\"\\\\\n",
        "\n",
        "|\"^\"`    |\n",
        "\n",
        "||_/=\\\\__|"
      ],
      "metadata": {
        "id": "yx3Oo0_i_hcD"
      }
    },
    {
      "cell_type": "markdown",
      "source": [
        "|\\_/|\n",
        "\n",
        "|q p|   /}\n",
        "\n",
        "( 0 )\"\"\"\\\n",
        "\n",
        "|\"^\"`    |\n",
        "\n",
        "||_/=\\\\__|"
      ],
      "metadata": {
        "id": "DvqIZgHx_n2B"
      }
    },
    {
      "cell_type": "code",
      "source": [
        ""
      ],
      "metadata": {
        "id": "n1AZm_0K_h9X"
      },
      "execution_count": null,
      "outputs": []
    }
  ]
}