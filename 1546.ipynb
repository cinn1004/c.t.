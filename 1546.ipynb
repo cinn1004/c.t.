{
  "nbformat": 4,
  "nbformat_minor": 0,
  "metadata": {
    "colab": {
      "name": "1546.ipynb",
      "provenance": [],
      "collapsed_sections": [],
      "authorship_tag": "ABX9TyNzGRS6dHAH8A9WXgsCTWZo",
      "include_colab_link": true
    },
    "kernelspec": {
      "name": "python3",
      "display_name": "Python 3"
    },
    "language_info": {
      "name": "python"
    }
  },
  "cells": [
    {
      "cell_type": "markdown",
      "metadata": {
        "id": "view-in-github",
        "colab_type": "text"
      },
      "source": [
        "<a href=\"https://colab.research.google.com/github/cinn1004/c.t./blob/main/1546.ipynb\" target=\"_parent\"><img src=\"https://colab.research.google.com/assets/colab-badge.svg\" alt=\"Open In Colab\"/></a>"
      ]
    },
    {
      "cell_type": "code",
      "execution_count": null,
      "metadata": {
        "id": "0GHBRydJ6S-Z"
      },
      "outputs": [],
      "source": [
        "import sys\n",
        "A = int(input())\n",
        "B = list(map(int,sys.stdin.readline().split()))\n",
        "C = 0\n",
        "for i in range(A):\n",
        "    C += B[i] / max(B) * 100\n",
        "\n",
        "print(C/A)"
      ]
    }
  ]
}